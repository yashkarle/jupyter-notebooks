{
 "cells": [
  {
   "cell_type": "code",
   "execution_count": 1,
   "metadata": {},
   "outputs": [],
   "source": [
    "import random"
   ]
  },
  {
   "cell_type": "code",
   "execution_count": 2,
   "metadata": {},
   "outputs": [],
   "source": [
    "SAMPLE_COUNT = 10"
   ]
  },
  {
   "cell_type": "code",
   "execution_count": 3,
   "metadata": {},
   "outputs": [],
   "source": [
    "random.seed(123456789)"
   ]
  },
  {
   "cell_type": "code",
   "execution_count": 5,
   "metadata": {},
   "outputs": [
    {
     "name": "stdout",
     "output_type": "stream",
     "text": [
      "['Dobrova,_Dobrova-Polhov_Gradec\\n', 'Largest_cities_in_the_United_States_in_1930_by_population\\n', 'Harrison_Wells_(Earth-24)\\n', 'Seraphimite_Church\\n', 'Chaosium_Inc.\\n', 'Andreas_Kerner\\n', 'Microgale_majori\\n', 'A_Very_Potter_Senior_Year\\n', 'Eskayunak\\n', 'History_of_Greenacres,_Florida\\n']\n"
     ]
    }
   ],
   "source": [
    "sample_titles = []\n",
    "for index, title in enumerate(open(\"enwiki-latest-all-titles-in-ns0\")):\n",
    "    if index < SAMPLE_COUNT:\n",
    "        sample_titles.append(title)\n",
    "    else:\n",
    "        r = random.randint(0, index)\n",
    "        if r < SAMPLE_COUNT:\n",
    "            sample_titles[r] = title\n",
    "            \n",
    "print(sample_titles)"
   ]
  },
  {
   "cell_type": "code",
   "execution_count": 6,
   "metadata": {},
   "outputs": [
    {
     "name": "stdout",
     "output_type": "stream",
     "text": [
      "['On_Mark_Engineering\\n', 'Adieu_monsieur_le_professeur\\n', '52_BCE\\n', 'Holy_Water-Gate:_Abuse_Cover-up_in_the_Catholic_Church\\n', 'Miao_people\\n', 'Sisters_of_St._Francis\\n', 'Blastocyst_cryopreservation\\n', 'Large_myrtle\\n', 'Proterogyrinus_scheelei\\n', 'Kathleen_Laurel_Sage-_Textiles_Artist\\n']\n"
     ]
    }
   ],
   "source": [
    "sample_titles = []\n",
    "for index, title in enumerate(open(\"enwiki-latest-all-titles-in-ns0\")):\n",
    "    if index < SAMPLE_COUNT:\n",
    "        sample_titles.append(title)\n",
    "    else:\n",
    "        r = random.randint(0, index)\n",
    "        if r < SAMPLE_COUNT:\n",
    "            sample_titles[r] = title\n",
    "            \n",
    "print(sample_titles)"
   ]
  },
  {
   "cell_type": "code",
   "execution_count": null,
   "metadata": {},
   "outputs": [],
   "source": []
  }
 ],
 "metadata": {
  "kernelspec": {
   "display_name": "Python 3",
   "language": "python",
   "name": "python3"
  },
  "language_info": {
   "codemirror_mode": {
    "name": "ipython",
    "version": 3
   },
   "file_extension": ".py",
   "mimetype": "text/x-python",
   "name": "python",
   "nbconvert_exporter": "python",
   "pygments_lexer": "ipython3",
   "version": "3.6.5"
  }
 },
 "nbformat": 4,
 "nbformat_minor": 2
}
